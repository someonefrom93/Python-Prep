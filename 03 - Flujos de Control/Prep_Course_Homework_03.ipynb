{
 "cells": [
  {
   "cell_type": "code",
   "execution_count": 50,
   "metadata": {},
   "outputs": [
    {
     "name": "stdout",
     "output_type": "stream",
     "text": [
      "It is not\n"
     ]
    }
   ],
   "source": [
    "## Some practice from class videos.\n",
    "## Flow chart to validate if numb can be divided over div\n",
    "## using loops\n",
    "numb = 1591563565\n",
    "div = 2\n",
    "\n",
    "while True:\n",
    "    if numb > 0:\n",
    "        numb -= div\n",
    "    elif numb == 0:\n",
    "        print(\"It is\")\n",
    "        break\n",
    "    else:\n",
    "        print(\"It is not\")\n",
    "        break"
   ]
  },
  {
   "cell_type": "code",
   "execution_count": 51,
   "metadata": {},
   "outputs": [
    {
     "name": "stdout",
     "output_type": "stream",
     "text": [
      "It is not\n"
     ]
    }
   ],
   "source": [
    "## This is also reached by evaluating numb%div == 0, avoiding the usage of while loop\n",
    "## a better aproach since while loops will perform a lot of rests\n",
    "numb = 1591563565\n",
    "div = 2\n",
    "if numb%div == 0:\n",
    "    print(\"It is\")\n",
    "else:\n",
    "    print(\"It is not\")"
   ]
  },
  {
   "attachments": {},
   "cell_type": "markdown",
   "metadata": {},
   "source": [
    "1.- Create a variable containing an integer and then print if the integer is either greater or less than zero"
   ]
  },
  {
   "cell_type": "code",
   "execution_count": 53,
   "metadata": {},
   "outputs": [
    {
     "name": "stdout",
     "output_type": "stream",
     "text": [
      "It is not greater than zero\n"
     ]
    }
   ],
   "source": [
    "numb = 0\n",
    "if numb > 0:\n",
    "    print(\"It es greater than zero\")\n",
    "else:\n",
    "    print(\"It is not greater than zero\")"
   ]
  },
  {
   "attachments": {},
   "cell_type": "markdown",
   "metadata": {},
   "source": [
    "2.- Create 2 variables and evaluate if both are the same data-type"
   ]
  },
  {
   "cell_type": "code",
   "execution_count": 54,
   "metadata": {},
   "outputs": [
    {
     "name": "stdout",
     "output_type": "stream",
     "text": [
      "Both variables don´t contain same data-type\n"
     ]
    }
   ],
   "source": [
    "var_1 = 'Mark'\n",
    "var_2 = 4.233\n",
    "if type(var_1) == type(var_2):\n",
    "    print(\"Both variables contain same data-type\")\n",
    "else:\n",
    "    print(\"Both variables don´t contain same data-type\")"
   ]
  },
  {
   "attachments": {},
   "cell_type": "markdown",
   "metadata": {},
   "source": [
    "3.- For integers from 1 to 20, print into the screen if each one is odd or even"
   ]
  },
  {
   "cell_type": "code",
   "execution_count": 57,
   "metadata": {},
   "outputs": [
    {
     "name": "stdout",
     "output_type": "stream",
     "text": [
      "1 is odd\n",
      "2 is even\n",
      "3 is odd\n",
      "4 is even\n",
      "5 is odd\n",
      "6 is even\n",
      "7 is odd\n",
      "8 is even\n",
      "9 is odd\n",
      "10 is even\n",
      "11 is odd\n",
      "12 is even\n",
      "13 is odd\n",
      "14 is even\n",
      "15 is odd\n",
      "16 is even\n",
      "17 is odd\n",
      "18 is even\n",
      "19 is odd\n",
      "20 is even\n"
     ]
    }
   ],
   "source": [
    "for number in range(1, 21):\n",
    "    if number%2 == 1:\n",
    "        print(f\"{number} is odd\")\n",
    "    else:\n",
    "        print(f\"{number} is even\")"
   ]
  },
  {
   "attachments": {},
   "cell_type": "markdown",
   "metadata": {},
   "source": [
    "4.- Show the power of 3 for each number from 0 to 5"
   ]
  },
  {
   "cell_type": "code",
   "execution_count": 58,
   "metadata": {},
   "outputs": [
    {
     "name": "stdout",
     "output_type": "stream",
     "text": [
      "0\n",
      "1\n",
      "8\n",
      "27\n",
      "64\n",
      "125\n"
     ]
    }
   ],
   "source": [
    "for number in range(6):\n",
    "    print(number**3)"
   ]
  },
  {
   "attachments": {},
   "cell_type": "markdown",
   "metadata": {},
   "source": [
    "5.- Create a variable containing an integer and loop it in its range"
   ]
  },
  {
   "cell_type": "code",
   "execution_count": 60,
   "metadata": {},
   "outputs": [
    {
     "name": "stdout",
     "output_type": "stream",
     "text": [
      "0\n",
      "1\n",
      "2\n",
      "3\n",
      "4\n"
     ]
    }
   ],
   "source": [
    "number = 5\n",
    "for n in range(5):\n",
    "    print(n)"
   ]
  },
  {
   "attachments": {},
   "cell_type": "markdown",
   "metadata": {},
   "source": [
    "6.- Use a while loop to calculate the factorial of a number grater than zero"
   ]
  },
  {
   "cell_type": "code",
   "execution_count": 27,
   "metadata": {},
   "outputs": [
    {
     "data": {
      "text/plain": [
       "0"
      ]
     },
     "execution_count": 27,
     "metadata": {},
     "output_type": "execute_result"
    }
   ],
   "source": [
    "fact_number = 0\n",
    "output = 0\n",
    "if fact_number > 0:\n",
    "    output = 1\n",
    "    while fact_number > 0:\n",
    "        output = fact_number * output\n",
    "        fact_number -= 1\n",
    "output"
   ]
  },
  {
   "attachments": {},
   "cell_type": "markdown",
   "metadata": {},
   "source": [
    "7.- Create a for loop in a while loop ¿¿??¿"
   ]
  },
  {
   "cell_type": "code",
   "execution_count": 35,
   "metadata": {},
   "outputs": [
    {
     "name": "stdout",
     "output_type": "stream",
     "text": [
      "while-loop starts\n",
      "for loop performing\n",
      "for loop performing\n",
      "for loop performing\n",
      "while loop breaks\n"
     ]
    }
   ],
   "source": [
    "number = 3\n",
    "while True:\n",
    "    print(\"while-loop starts\")\n",
    "    done = number\n",
    "    for n in range(number):\n",
    "        \n",
    "        print(\"for loop performing\")\n",
    "        done -= n\n",
    "\n",
    "    if done <= 0:\n",
    "        print(\"while loop breaks\")\n",
    "        break"
   ]
  },
  {
   "attachments": {},
   "cell_type": "markdown",
   "metadata": {},
   "source": [
    "8.- Create a while loop in a for loop"
   ]
  },
  {
   "cell_type": "code",
   "execution_count": 38,
   "metadata": {},
   "outputs": [
    {
     "name": "stdout",
     "output_type": "stream",
     "text": [
      "for-loop executing code..\n",
      "while-loop executing code..\n",
      "while-loop executing code..\n",
      "while-loop executing code..\n",
      "for-loop executing code..\n",
      "for-loop executing code..\n"
     ]
    }
   ],
   "source": [
    "number = 3\n",
    "\n",
    "for n in range(number):\n",
    "    print(\"for-loop executing code..\")\n",
    "    while number > 0:\n",
    "        print(\"while-loop executing code..\")\n",
    "        number -= 1\n"
   ]
  },
  {
   "attachments": {},
   "cell_type": "markdown",
   "metadata": {},
   "source": [
    "9.- Print the prime numbers between 0 and 30.\n",
    "\n",
    "Special case: 0 is not prime number"
   ]
  },
  {
   "cell_type": "code",
   "execution_count": null,
   "metadata": {},
   "outputs": [],
   "source": [
    "2%2"
   ]
  },
  {
   "cell_type": "code",
   "execution_count": null,
   "metadata": {},
   "outputs": [],
   "source": []
  },
  {
   "cell_type": "code",
   "execution_count": null,
   "metadata": {},
   "outputs": [],
   "source": []
  },
  {
   "cell_type": "code",
   "execution_count": null,
   "metadata": {},
   "outputs": [],
   "source": []
  },
  {
   "cell_type": "code",
   "execution_count": null,
   "metadata": {},
   "outputs": [],
   "source": []
  },
  {
   "cell_type": "code",
   "execution_count": 77,
   "metadata": {},
   "outputs": [
    {
     "name": "stdout",
     "output_type": "stream",
     "text": [
      "The number 0 is not prime\n",
      "The number 1 is not prime\n",
      "The number 2 is prime!\n",
      "The number 3 is prime!\n",
      "The number 4 is not prime\n",
      "The number 4 is prime!\n",
      "The number 5 is prime!\n",
      "The number 6 is not prime\n",
      "The number 6 is not prime\n",
      "The number 6 is prime!\n",
      "The number 7 is prime!\n",
      "The number 8 is not prime\n",
      "The number 8 is not prime\n",
      "The number 8 is prime!\n",
      "The number 9 is not prime\n",
      "The number 9 is prime!\n",
      "The number 10 is not prime\n",
      "The number 10 is not prime\n",
      "The number 10 is prime!\n",
      "The number 11 is prime!\n",
      "The number 12 is not prime\n",
      "The number 12 is not prime\n",
      "The number 12 is not prime\n",
      "The number 12 is not prime\n",
      "The number 12 is prime!\n",
      "The number 13 is prime!\n",
      "The number 14 is not prime\n",
      "The number 14 is not prime\n",
      "The number 14 is prime!\n",
      "The number 15 is not prime\n",
      "The number 15 is not prime\n",
      "The number 15 is prime!\n",
      "The number 16 is not prime\n",
      "The number 16 is not prime\n",
      "The number 16 is not prime\n",
      "The number 16 is prime!\n",
      "The number 17 is prime!\n",
      "The number 18 is not prime\n",
      "The number 18 is not prime\n",
      "The number 18 is not prime\n",
      "The number 18 is not prime\n",
      "The number 18 is prime!\n",
      "The number 19 is prime!\n",
      "The number 20 is not prime\n",
      "The number 20 is not prime\n",
      "The number 20 is not prime\n",
      "The number 20 is not prime\n",
      "The number 20 is prime!\n",
      "The number 21 is not prime\n",
      "The number 21 is not prime\n",
      "The number 21 is prime!\n",
      "The number 22 is not prime\n",
      "The number 22 is not prime\n",
      "The number 22 is prime!\n",
      "The number 23 is prime!\n",
      "The number 24 is not prime\n",
      "The number 24 is not prime\n",
      "The number 24 is not prime\n",
      "The number 24 is not prime\n",
      "The number 24 is not prime\n",
      "The number 24 is not prime\n",
      "The number 24 is prime!\n",
      "The number 25 is not prime\n",
      "The number 25 is prime!\n",
      "The number 26 is not prime\n",
      "The number 26 is not prime\n",
      "The number 26 is prime!\n",
      "The number 27 is not prime\n",
      "The number 27 is not prime\n",
      "The number 27 is prime!\n",
      "The number 28 is not prime\n",
      "The number 28 is not prime\n",
      "The number 28 is not prime\n",
      "The number 28 is not prime\n",
      "The number 28 is prime!\n",
      "The number 29 is prime!\n"
     ]
    }
   ],
   "source": [
    "for number in range(30):\n",
    "\n",
    "    if number <= 1:\n",
    "        print(f\"The number {number} is not prime\")\n",
    "        continue\n",
    "    \n",
    "    for i in range(2, number):\n",
    "        if number%i==0:\n",
    "            print(f\"The number {number} is not prime\")\n",
    "    \n",
    "    print(f\"The number {number} is prime!\")"
   ]
  },
  {
   "cell_type": "code",
   "execution_count": null,
   "metadata": {},
   "outputs": [],
   "source": []
  }
 ],
 "metadata": {
  "kernelspec": {
   "display_name": "Python 3",
   "language": "python",
   "name": "python3"
  },
  "language_info": {
   "codemirror_mode": {
    "name": "ipython",
    "version": 3
   },
   "file_extension": ".py",
   "mimetype": "text/x-python",
   "name": "python",
   "nbconvert_exporter": "python",
   "pygments_lexer": "ipython3",
   "version": "3.10.6"
  },
  "orig_nbformat": 4,
  "vscode": {
   "interpreter": {
    "hash": "e70ce393cdc174ba8cff450c9b01ba5d43cf134f29cc131dcaaea0ab8caefb0e"
   }
  }
 },
 "nbformat": 4,
 "nbformat_minor": 2
}
