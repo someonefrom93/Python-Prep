{
 "cells": [
  {
   "attachments": {},
   "cell_type": "markdown",
   "metadata": {},
   "source": [
    "## Homework\n",
    "\n",
    "Introduccion to variables:"
   ]
  },
  {
   "cell_type": "code",
   "execution_count": 2,
   "metadata": {},
   "outputs": [
    {
     "name": "stdout",
     "output_type": "stream",
     "text": [
      "2\n"
     ]
    }
   ],
   "source": [
    "# 1.- Create a variable containing an int-datatype element and then print it into the screen.\n",
    "my_var1 = 2\n",
    "print(my_var1)"
   ]
  },
  {
   "cell_type": "code",
   "execution_count": 3,
   "metadata": {},
   "outputs": [
    {
     "name": "stdout",
     "output_type": "stream",
     "text": [
      "<class 'float'>\n"
     ]
    }
   ],
   "source": [
    "# 2.- Print the datatype of 8.5\n",
    "my_var2 = 8.5\n",
    "print(type(my_var2))"
   ]
  },
  {
   "cell_type": "code",
   "execution_count": 5,
   "metadata": {},
   "outputs": [
    {
     "name": "stdout",
     "output_type": "stream",
     "text": [
      "<class 'int'>\n"
     ]
    }
   ],
   "source": [
    "# 3.- Print the variable datatype of point # 1.-\n",
    "print(type(my_var1))"
   ]
  },
  {
   "cell_type": "code",
   "execution_count": 6,
   "metadata": {},
   "outputs": [],
   "source": [
    "# 4.- Create a variable containing your name\n",
    "my_var3 = \"Juan Diego\""
   ]
  },
  {
   "cell_type": "code",
   "execution_count": 7,
   "metadata": {},
   "outputs": [],
   "source": [
    "# 5.- Create a variable containing a complex number\n",
    "my_var4 = 3 + 4j"
   ]
  },
  {
   "cell_type": "code",
   "execution_count": 8,
   "metadata": {},
   "outputs": [
    {
     "data": {
      "text/plain": [
       "complex"
      ]
     },
     "execution_count": 8,
     "metadata": {},
     "output_type": "execute_result"
    }
   ],
   "source": [
    "# 6.-Show the data-type of the element of point # 5\n",
    "type(my_var4)"
   ]
  },
  {
   "cell_type": "code",
   "execution_count": 12,
   "metadata": {},
   "outputs": [
    {
     "data": {
      "text/plain": [
       "3.1416"
      ]
     },
     "execution_count": 12,
     "metadata": {},
     "output_type": "execute_result"
    }
   ],
   "source": [
    "# 7.- Create a variable containing the Pi value rounded to 4 decimal\n",
    "import math\n",
    "my_var5 = round(math.pi, 4)\n",
    "my_var5"
   ]
  },
  {
   "cell_type": "code",
   "execution_count": 15,
   "metadata": {},
   "outputs": [
    {
     "name": "stdout",
     "output_type": "stream",
     "text": [
      "the answer to the question: False\n"
     ]
    }
   ],
   "source": [
    "# 8.- Create a variable that contains the value 'True' and another one containing the value True\n",
    "my_var6 = 'True'\n",
    "my_var7 = True\n",
    "# Are they the same?\n",
    "print(f\"the answer to the question: {type(my_var6) == type(my_var7)}\")\n"
   ]
  },
  {
   "cell_type": "code",
   "execution_count": 21,
   "metadata": {},
   "outputs": [
    {
     "name": "stdout",
     "output_type": "stream",
     "text": [
      "data-type of \n",
      "variable var_6: <class 'str'>\n",
      "var_7: <class 'bool'>\n"
     ]
    }
   ],
   "source": [
    "# 9.- Print the data-type of the variables of point 8\n",
    "print(f\"data-type of \\nvariable var_6: {type(my_var6)}\\nvar_7: {type(my_var7)}\")"
   ]
  },
  {
   "cell_type": "code",
   "execution_count": 22,
   "metadata": {},
   "outputs": [
    {
     "data": {
      "text/plain": [
       "5.1"
      ]
     },
     "execution_count": 22,
     "metadata": {},
     "output_type": "execute_result"
    }
   ],
   "source": [
    "# 10.- Assign to a variable the sum of a float and int.\n",
    "my_var8 = 2.1 + 3\n",
    "my_var8"
   ]
  },
  {
   "cell_type": "code",
   "execution_count": 31,
   "metadata": {},
   "outputs": [
    {
     "data": {
      "text/plain": [
       "(5+15j)"
      ]
     },
     "execution_count": 31,
     "metadata": {},
     "output_type": "execute_result"
    }
   ],
   "source": [
    "# 11.- Perform the sum of two complex numbers\n",
    "import cmath\n",
    "# Real numbers\n",
    "my_var9 = 3\n",
    "my_var10 = 9\n",
    "\n",
    "my_var11 = 2\n",
    "my_var12 = 6\n",
    "\n",
    "# Converting variables (real numbers) into complex numbers z1 and z2\n",
    "z1 = complex(my_var9, my_var10)\n",
    "z2 = complex(my_var11, my_var12)\n",
    "\n",
    "z1 + z2\n"
   ]
  },
  {
   "cell_type": "code",
   "execution_count": 33,
   "metadata": {},
   "outputs": [
    {
     "data": {
      "text/plain": [
       "(6+9j)"
      ]
     },
     "execution_count": 33,
     "metadata": {},
     "output_type": "execute_result"
    }
   ],
   "source": [
    "# 12 .- Perform the addition operation of a real number plus a complex\n",
    "3 + z1"
   ]
  },
  {
   "cell_type": "code",
   "execution_count": 35,
   "metadata": {},
   "outputs": [
    {
     "data": {
      "text/plain": [
       "(-48+36j)"
      ]
     },
     "execution_count": 35,
     "metadata": {},
     "output_type": "execute_result"
    }
   ],
   "source": [
    "# 13 .- Perform a multiplication operation (not specified of what.. so let's try complex numbers)\n",
    "\n",
    "z1 * z2"
   ]
  },
  {
   "cell_type": "code",
   "execution_count": 36,
   "metadata": {},
   "outputs": [
    {
     "data": {
      "text/plain": [
       "256"
      ]
     },
     "execution_count": 36,
     "metadata": {},
     "output_type": "execute_result"
    }
   ],
   "source": [
    "# 14.- Show the result of 2 to power of 8.\n",
    "2**8"
   ]
  },
  {
   "cell_type": "code",
   "execution_count": 37,
   "metadata": {},
   "outputs": [
    {
     "data": {
      "text/plain": [
       "6.75"
      ]
     },
     "execution_count": 37,
     "metadata": {},
     "output_type": "execute_result"
    }
   ],
   "source": [
    "# 15.- Get the division of 27 over 4\n",
    "27 / 4"
   ]
  },
  {
   "cell_type": "code",
   "execution_count": 42,
   "metadata": {},
   "outputs": [
    {
     "data": {
      "text/plain": [
       "6"
      ]
     },
     "execution_count": 42,
     "metadata": {},
     "output_type": "execute_result"
    }
   ],
   "source": [
    "# 16.- Get only the intire part of the last division\n",
    "my_var13 = 27 // 4\n",
    "my_var13"
   ]
  },
  {
   "cell_type": "code",
   "execution_count": 43,
   "metadata": {},
   "outputs": [
    {
     "data": {
      "text/plain": [
       "3"
      ]
     },
     "execution_count": 43,
     "metadata": {},
     "output_type": "execute_result"
    }
   ],
   "source": [
    "# 17.- Then, only show the rest of the division of 27 / 4\n",
    "my_var14 = 27%4\n",
    "my_var14"
   ]
  },
  {
   "cell_type": "code",
   "execution_count": 45,
   "metadata": {},
   "outputs": [
    {
     "data": {
      "text/plain": [
       "27"
      ]
     },
     "execution_count": 45,
     "metadata": {},
     "output_type": "execute_result"
    }
   ],
   "source": [
    "# 18.- Using de number 4 as an operant and the outputs from #16 and #17 point, get 27 as a result\n",
    "(my_var13 * 4) + my_var14 # 4 times the intire part plus the remainder."
   ]
  },
  {
   "cell_type": "code",
   "execution_count": 46,
   "metadata": {},
   "outputs": [
    {
     "data": {
      "text/plain": [
       "'Juan Diego'"
      ]
     },
     "execution_count": 46,
     "metadata": {},
     "output_type": "execute_result"
    }
   ],
   "source": [
    "# 19.- Use the + operator with alphanumeric variables\n",
    "my_var15 = 'Juan '\n",
    "my_var16 = 'Diego'\n",
    "my_var15 + my_var16"
   ]
  },
  {
   "cell_type": "code",
   "execution_count": 50,
   "metadata": {},
   "outputs": [
    {
     "name": "stdout",
     "output_type": "stream",
     "text": [
      "Are the same '2' and 2?\n",
      "Answer: False, since '2' is a string of characters and 2 is an \n",
      "integer. Computers process differently this information\n"
     ]
    }
   ],
   "source": [
    "# 20.- Perform if \"2\" and 2 are the same and:\n",
    "# explain the result\n",
    "print(f\"Are the same '2' and 2?\\nAnswer: {'2' == 2}, since '2' is a string of characters and 2 is an \\ninteger. Computers process differently this information\")"
   ]
  },
  {
   "cell_type": "code",
   "execution_count": 53,
   "metadata": {},
   "outputs": [
    {
     "data": {
      "text/plain": [
       "(True, True)"
      ]
     },
     "execution_count": 53,
     "metadata": {},
     "output_type": "execute_result"
    }
   ],
   "source": [
    "# 21.- Use convertion functions to change data-types to evaluate as True the last validation of\n",
    "# point #20\n",
    "# Option 1 (all to strings):\n",
    "var_17 = '2' == str(2)\n",
    "# Option 2 (all to integers):\n",
    "var_18 = int('2') == 2\n",
    "var_17, var_18"
   ]
  },
  {
   "cell_type": "code",
   "execution_count": 60,
   "metadata": {},
   "outputs": [
    {
     "name": "stdout",
     "output_type": "stream",
     "text": [
      "Beacause float numbers needs period symbol to specify decimal.\n"
     ]
    }
   ],
   "source": [
    "# 22.- Why rise error the next data-type change?\n",
    "#var_19 = float('3,8')\n",
    "print(\"Beacause float numbers needs period symbol to specify decimal.\")\n"
   ]
  },
  {
   "cell_type": "code",
   "execution_count": 62,
   "metadata": {},
   "outputs": [
    {
     "data": {
      "text/plain": [
       "1"
      ]
     },
     "execution_count": 62,
     "metadata": {},
     "output_type": "execute_result"
    }
   ],
   "source": [
    "# 23.- Create a variable containing 3 and use '-=' operator to chade its content\n",
    "var_20 = 3\n",
    "var_20 -= 2\n",
    "var_20"
   ]
  },
  {
   "cell_type": "code",
   "execution_count": 63,
   "metadata": {},
   "outputs": [
    {
     "data": {
      "text/plain": [
       "4"
      ]
     },
     "execution_count": 63,
     "metadata": {},
     "output_type": "execute_result"
    }
   ],
   "source": [
    "# 24.- Perform the 1 << 2 operation. Why does this output that result? What is binary system?\n",
    "# Answer: it outputs a bitwise operation, in this case bitwise left shift\n",
    "1 << 2"
   ]
  },
  {
   "cell_type": "code",
   "execution_count": 64,
   "metadata": {},
   "outputs": [],
   "source": [
    "# 25.- Perform 2 + '2' operation. Why is it not allowed?\n",
    "# Ans: Because you cannot perform operations between different data-types\n",
    "# If the operators were the same type, it'd rise the same error?\n",
    "# Ans: It doesn't, as long as data-types are the same between operators"
   ]
  },
  {
   "cell_type": "code",
   "execution_count": 65,
   "metadata": {},
   "outputs": [
    {
     "name": "stdout",
     "output_type": "stream",
     "text": [
      "22\n",
      "4\n"
     ]
    }
   ],
   "source": [
    "# 26.- Make the valid operation between data-types str and int\n",
    "\n",
    "print(str(2) + '2')\n",
    "print(2 + int('2'))"
   ]
  },
  {
   "cell_type": "code",
   "execution_count": null,
   "metadata": {},
   "outputs": [],
   "source": []
  }
 ],
 "metadata": {
  "kernelspec": {
   "display_name": "Python 3",
   "language": "python",
   "name": "python3"
  },
  "language_info": {
   "codemirror_mode": {
    "name": "ipython",
    "version": 3
   },
   "file_extension": ".py",
   "mimetype": "text/x-python",
   "name": "python",
   "nbconvert_exporter": "python",
   "pygments_lexer": "ipython3",
   "version": "3.10.6"
  },
  "orig_nbformat": 4,
  "vscode": {
   "interpreter": {
    "hash": "e70ce393cdc174ba8cff450c9b01ba5d43cf134f29cc131dcaaea0ab8caefb0e"
   }
  }
 },
 "nbformat": 4,
 "nbformat_minor": 2
}
